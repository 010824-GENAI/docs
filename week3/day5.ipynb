{
 "cells": [
  {
   "cell_type": "markdown",
   "metadata": {},
   "source": [
    "# Week 3 Day 5\n",
    "\n",
    "## Announcement\n",
    "- [Weekly Training Survey](https://forms.office.com/r/YMAZY18pWv)\n",
    "- Quiz\n",
    "- Week 4 Schedule\n",
    "  - M-W: Project 2, Labs, Prompting Quiz\n",
    "  - Th/F: Project 2 Presentation\n",
    "\n",
    "## Agenda\n",
    "- P2 Introduction\n",
    "- Quick and dirty Streamlit demo "
   ]
  },
  {
   "cell_type": "markdown",
   "metadata": {},
   "source": [
    "## [Streamlit](https://docs.streamlit.io/)\n",
    "- Open source web application framework\n",
    "- 100% python\n",
    "- Built for data apps\n",
    "\n",
    "### Pros and Cons\n",
    "- Pros: Streamlit takes care of all html/css/js wiring, event handling, positioning the elements, etc. for you. It also looks pretty out of the box.\n",
    "- Cons: Little room for customization or complex behavior\n",
    "- Common approach: Streamlit for rapid prototyping, actual web frontend technologies for production\n",
    "\n",
    "### To install and run\n",
    "- To install: `pip install streamlit`\n",
    "- To run: `streamlit run your_app.py`\n",
    "- demo app: `streamlit hello`\n",
    "\n",
    "### Streamlit DataFlow\n",
    "Streamlit will re-run your script whenever there is a change. \n",
    "This happens in 2 situations:\n",
    "- When you change the code\n",
    "- When user interacts with the application\n",
    "  - if there is event handler attached to the particular event, it will always run Before the re-run of the entire script file.\n",
    "\n",
    "### How to render\n",
    "1. Get yourself some data/text\n",
    "2. Choose an appropriate element/streamlit function. [Doc](https://docs.streamlit.io/library/api-reference)\n",
    "3. Profit!"
   ]
  }
 ],
 "metadata": {
  "language_info": {
   "name": "python"
  }
 },
 "nbformat": 4,
 "nbformat_minor": 2
}
