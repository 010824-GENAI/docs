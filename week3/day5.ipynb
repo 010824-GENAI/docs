{
 "cells": [
  {
   "cell_type": "markdown",
   "metadata": {},
   "source": [
    "# Week 3 Day 5\n",
    "\n",
    "## Announcement\n",
    "- [Weekly Training Survey](https://forms.office.com/r/YMAZY18pWv)\n",
    "- Quizz\n",
    "- Week 4 Schedule\n",
    "  - M-W: Project 2, Labs, Prompting Quiz\n",
    "  - Th/F: Project 2 Presentation\n",
    "\n",
    "## Agenda\n",
    "- P2 Introduction\n",
    "- Quick and dirty Streamlit demo "
   ]
  },
  {
   "cell_type": "markdown",
   "metadata": {},
   "source": [
    "## [Streamlit](https://docs.streamlit.io/)\n",
    "- Open source web application framework\n",
    "- 100% python\n",
    "- Built for data apps\n",
    "\n",
    "### Pros and Cons\n",
    "- Pros: Streamlit takes care of all html/css/js wiring, event handling, positioning the elements, etc. for you. It also looks pretty out of the box.\n",
    "- Cons: Little room for customization or complex behavior\n",
    "- Common approach: Streamlit for rapid prototyping, actual web UI framework for production\n",
    "\n",
    "### To install and run\n",
    "- To install: `pip install streamlit`\n",
    "- To run: `streamlit run your_app.py`\n",
    "- demo app: `streamlit hello`"
   ]
  }
 ],
 "metadata": {
  "language_info": {
   "name": "python"
  }
 },
 "nbformat": 4,
 "nbformat_minor": 2
}
