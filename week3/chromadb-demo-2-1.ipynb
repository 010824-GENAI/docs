{
 "cells": [
  {
   "cell_type": "code",
   "execution_count": null,
   "metadata": {},
   "outputs": [],
   "source": [
    "import chromadb\n",
    "client = chromadb.PersistentClient(path=\"./db\")"
   ]
  },
  {
   "cell_type": "code",
   "execution_count": null,
   "metadata": {},
   "outputs": [],
   "source": [
    "class MyEmbeddingFunction(EmbeddingFunction):\n",
    "    def __call__(self, input: Documents) -> Embeddings:\n",
    "        return embedding"
   ]
  },
  {
   "cell_type": "code",
   "execution_count": null,
   "metadata": {},
   "outputs": [],
   "source": [
    "import os\n",
    "\n",
    "collection = client.get_or_create_collection(name=\"chromadb_demo2_hf_model\", embedding_function=MyEmbeddingFunction(api_key=os.getenv(\"HF_API_KEY\"), enpoint_url=os.getenv(\"EMBEDDED_ENDPOINT\")))"
   ]
  },
  {
   "cell_type": "code",
   "execution_count": null,
   "metadata": {},
   "outputs": [],
   "source": [
    "import csv\n",
    "\n",
    "def get_csv_file(filename):\n",
    "    # Read the data from the CSV file\n",
    "    with open(filename, \"r\") as f:\n",
    "        # Skip the header row\n",
    "        next(f)\n",
    "        reader = csv.reader(f)\n",
    "        return list(reader)\n",
    "\n",
    "# Get the data from the CSV file\n",
    "data = get_csv_file(\"chinese_menu_items.csv\")\n",
    "\n"
   ]
  },
  {
   "cell_type": "code",
   "execution_count": null,
   "metadata": {},
   "outputs": [],
   "source": [
    "# Add the data to the collection\n",
    "collection.add(\n",
    "    ids=[arr[0] for arr in data],\n",
    "    documents=[arr[1] for arr in data],\n",
    "    metadatas=[{\"cuisine\":\"chinese\"} for _ in data]\n",
    ")"
   ]
  },
  {
   "cell_type": "code",
   "execution_count": 7,
   "metadata": {},
   "outputs": [],
   "source": [
    "chunk_size = 25\n",
    "\n",
    "# Flatten the data into two lists\n",
    "ids=[arr[0] for arr in data]\n",
    "docs=[arr[1] for arr in data]\n",
    "\n",
    "# Split the data into chunks\n",
    "id_chunks = [ids[i:i + chunk_size] for i in range(0, len(ids), chunk_size)]\n",
    "doc_chunks = [docs[i:i + chunk_size] for i in range(0, len(docs), chunk_size)]"
   ]
  },
  {
   "cell_type": "code",
   "execution_count": 8,
   "metadata": {},
   "outputs": [],
   "source": [
    "# Add the data to the collection\n",
    "\n",
    "for id_chunk, doc_chunk in zip(id_chunks, doc_chunks):\n",
    "    collection.add(\n",
    "        ids=id_chunk,\n",
    "        documents=doc_chunk,\n",
    "        metadatas=[{\"cuisine\":\"chinese\"} for _ in id_chunk]\n",
    "    )"
   ]
  },
  {
   "cell_type": "code",
   "execution_count": 9,
   "metadata": {},
   "outputs": [
    {
     "data": {
      "text/plain": [
       "[['Mixed Vegetable Pan Fried Noodle',\n",
       "  'Pan Fried Noodle with Tofu and Curry Sauce',\n",
       "  'Mixed Vegetable and Tofu Pan Fried Noodle',\n",
       "  'Soy Sauce Chow Mein',\n",
       "  'Braised Noodle']]"
      ]
     },
     "execution_count": 9,
     "metadata": {},
     "output_type": "execute_result"
    }
   ],
   "source": [
    "result = collection.query(\n",
    "    query_texts=[\"greasy noodles\"],\n",
    "    n_results=5,\n",
    "    include=[\"documents\"],\n",
    "    where={\"cuisine\": \"chinese\"}\n",
    ")\n",
    "\n",
    "result[\"documents\"]"
   ]
  }
 ],
 "metadata": {
  "kernelspec": {
   "display_name": "Python 3",
   "language": "python",
   "name": "python3"
  },
  "language_info": {
   "codemirror_mode": {
    "name": "ipython",
    "version": 3
   },
   "file_extension": ".py",
   "mimetype": "text/x-python",
   "name": "python",
   "nbconvert_exporter": "python",
   "pygments_lexer": "ipython3",
   "version": "3.11.7"
  }
 },
 "nbformat": 4,
 "nbformat_minor": 2
}
