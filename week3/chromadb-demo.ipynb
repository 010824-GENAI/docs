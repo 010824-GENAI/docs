{
 "cells": [
  {
   "cell_type": "code",
   "execution_count": 1,
   "metadata": {},
   "outputs": [],
   "source": [
    "import chromadb\n",
    "# chroma_client = chromadb.Client()"
   ]
  },
  {
   "cell_type": "code",
   "execution_count": 2,
   "metadata": {},
   "outputs": [],
   "source": [
    "chroma_client = chromadb.PersistentClient(path=\"./db\")"
   ]
  },
  {
   "cell_type": "code",
   "execution_count": 15,
   "metadata": {},
   "outputs": [],
   "source": [
    "chroma_client.delete_collection(name=\"chromadb_demo\")"
   ]
  },
  {
   "cell_type": "code",
   "execution_count": 16,
   "metadata": {},
   "outputs": [],
   "source": [
    "collection = chroma_client.get_or_create_collection(name=\"chromadb_demo\")"
   ]
  },
  {
   "cell_type": "code",
   "execution_count": 5,
   "metadata": {},
   "outputs": [],
   "source": [
    "poetry = [\n",
    "    \"Birds fly over the rainbow\",\n",
    "    \"Why do birds suddenly appear\",\n",
    "    \"A fast brown animal leaps over a sleepy canine\",\n",
    "    \"The lazy dog lies under the shady tree\",\n",
    "    \"The quick brown fox jumps over the lazy dog\",\n",
    "]\n",
    "\n",
    "historical = [\n",
    "    \"Tonight. I call on the Senate to: Pass the Freedom to Vote Act. Pass the John Lewis Voting Rights Act. And while you’re at it, pass the Disclose Act so Americans can know who is funding our elections.\", \n",
    "    \"Tonight, I’d like to honor someone who has dedicated his life to serve this country: Justice Stephen Breyer—an Army veteran, Constitutional scholar, and retiring Justice of the United States Supreme Court. Justice Breyer, thank you for your service.\",\n",
    "    \"One of the most serious constitutional responsibilities a President has is nominating someone to serve on the United States Supreme Court.\" ,\n",
    "    \"And I did that 4 days ago, when I nominated Circuit Court of Appeals Judge Ketanji Brown Jackson. One of our nation’s top legal minds, who will continue Justice Breyer’s legacy of excellence.\"\n",
    "]"
   ]
  },
  {
   "cell_type": "code",
   "execution_count": 10,
   "metadata": {},
   "outputs": [],
   "source": [
    "import uuid\n",
    "\n",
    "# Add poem to collection\n",
    "collection.add(\n",
    "    documents=[s for s in poetry],\n",
    "    metadatas=[{\"type\": \"poetry\"} for _ in range(len(poetry))],\n",
    "    ids=[str(uuid.uuid4()) for _ in range(len(poetry))]\n",
    ")"
   ]
  },
  {
   "cell_type": "code",
   "execution_count": 19,
   "metadata": {},
   "outputs": [
    {
     "name": "stderr",
     "output_type": "stream",
     "text": [
      "Add of existing embedding ID: 1\n",
      "Add of existing embedding ID: 2\n",
      "Add of existing embedding ID: 3\n",
      "Add of existing embedding ID: 4\n",
      "Insert of existing embedding ID: 1\n",
      "Insert of existing embedding ID: 2\n",
      "Insert of existing embedding ID: 3\n",
      "Insert of existing embedding ID: 4\n"
     ]
    }
   ],
   "source": [
    "import uuid\n",
    "\n",
    "# Add political speech to collection\n",
    "collection.add(\n",
    "    documents=[s for s in historical],\n",
    "    metadatas=[{\"type\": \"political\"} for _ in range(len(historical))],\n",
    "    ids=[str(i + 1) for i in range(len(historical))]\n",
    ")"
   ]
  },
  {
   "cell_type": "code",
   "execution_count": 11,
   "metadata": {},
   "outputs": [
    {
     "data": {
      "text/plain": [
       "[['A fast brown animal leaps over a sleepy canine',\n",
       "  'A fast brown animal leaps over a sleepy canine',\n",
       "  'The quick brown fox jumps over the lazy dog',\n",
       "  'The quick brown fox jumps over the lazy dog',\n",
       "  'The lazy dog lies under the shady tree']]"
      ]
     },
     "execution_count": 11,
     "metadata": {},
     "output_type": "execute_result"
    }
   ],
   "source": [
    "\n",
    "results = collection.query(\n",
    "    query_texts=[\"A freedom senate jumping over dogs\"],\n",
    "    n_results=5,\n",
    "    include=[\"documents\"],\n",
    "    where={\"type\": \"poetry\"}\n",
    ")\n",
    "\n",
    "results[\"documents\"]"
   ]
  },
  {
   "cell_type": "code",
   "execution_count": 20,
   "metadata": {},
   "outputs": [
    {
     "name": "stderr",
     "output_type": "stream",
     "text": [
      "Number of requested results 5 is greater than number of elements in index 4, updating n_results = 4\n"
     ]
    },
    {
     "data": {
      "text/plain": [
       "[['And I did that 4 days ago, when I nominated Circuit Court of Appeals Judge Ketanji Brown Jackson. One of our nation’s top legal minds, who will continue Justice Breyer’s legacy of excellence.',\n",
       "  'One of the most serious constitutional responsibilities a President has is nominating someone to serve on the United States Supreme Court.',\n",
       "  'Tonight, I’d like to honor someone who has dedicated his life to serve this country: Justice Stephen Breyer—an Army veteran, Constitutional scholar, and retiring Justice of the United States Supreme Court. Justice Breyer, thank you for your service.',\n",
       "  'Tonight. I call on the Senate to: Pass the Freedom to Vote Act. Pass the John Lewis Voting Rights Act. And while you’re at it, pass the Disclose Act so Americans can know who is funding our elections.']]"
      ]
     },
     "execution_count": 20,
     "metadata": {},
     "output_type": "execute_result"
    }
   ],
   "source": [
    "\n",
    "results = collection.query(\n",
    "    query_texts=[\"What did the president say about Ketanji Brown Jackson\"],\n",
    "    n_results=5,\n",
    "    include=[\"documents\"],\n",
    "    where={\"type\": \"political\"}\n",
    ")\n",
    "\n",
    "results[\"documents\"]"
   ]
  },
  {
   "cell_type": "code",
   "execution_count": null,
   "metadata": {},
   "outputs": [],
   "source": [
    "collection.get(\n",
    "    include=[\"documents\"],\n",
    ")"
   ]
  }
 ],
 "metadata": {
  "kernelspec": {
   "display_name": "Python 3",
   "language": "python",
   "name": "python3"
  },
  "language_info": {
   "codemirror_mode": {
    "name": "ipython",
    "version": 3
   },
   "file_extension": ".py",
   "mimetype": "text/x-python",
   "name": "python",
   "nbconvert_exporter": "python",
   "pygments_lexer": "ipython3",
   "version": "3.11.7"
  }
 },
 "nbformat": 4,
 "nbformat_minor": 2
}
