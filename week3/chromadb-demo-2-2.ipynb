{
 "cells": [
  {
   "cell_type": "code",
   "execution_count": 1,
   "metadata": {},
   "outputs": [],
   "source": [
    "import chromadb\n",
    "client = chromadb.PersistentClient(path=\"./db\")"
   ]
  },
  {
   "cell_type": "code",
   "execution_count": 2,
   "metadata": {},
   "outputs": [],
   "source": [
    "import os\n",
    "\n",
    "collection = client.get_or_create_collection(name=\"chromadb_demo2_default_model\")"
   ]
  },
  {
   "cell_type": "code",
   "execution_count": 3,
   "metadata": {},
   "outputs": [],
   "source": [
    "import csv\n",
    "\n",
    "def get_csv_file(filename):\n",
    "    # Read the data from the CSV file\n",
    "    with open(filename, \"r\") as f:\n",
    "        # Skip the header row\n",
    "        next(f)\n",
    "        reader = csv.reader(f)\n",
    "        return list(reader)\n",
    "\n",
    "# Get the data from the CSV file\n",
    "data = get_csv_file(\"chinese_menu_items.csv\")\n",
    "\n"
   ]
  },
  {
   "cell_type": "code",
   "execution_count": 4,
   "metadata": {},
   "outputs": [],
   "source": [
    "\n",
    "# Flatten the data into a list of IDs and a list of documents\n",
    "ids=[arr[0] for arr in data]\n",
    "docs=[arr[1] for arr in data]\n",
    "\n",
    "# Add the data to the collection\n",
    "collection.add(\n",
    "    ids=ids,\n",
    "    documents=docs,\n",
    "    metadatas=[{\"cuisine\":\"chinese\"} for _ in range(len(ids))]\n",
    ")"
   ]
  },
  {
   "cell_type": "code",
   "execution_count": 5,
   "metadata": {},
   "outputs": [
    {
     "data": {
      "text/plain": [
       "[['Vegetable Noodle Soup',\n",
       "  'Mixed Vegetable Pan Fried Noodle',\n",
       "  'Braised Noodle',\n",
       "  'Chao-Style Rice Noodle',\n",
       "  'Pan Fried Noodle with Tofu and Curry Sauce']]"
      ]
     },
     "execution_count": 5,
     "metadata": {},
     "output_type": "execute_result"
    }
   ],
   "source": [
    "result = collection.query(\n",
    "    query_texts=[\"greasy noodles\"],\n",
    "    n_results=5,\n",
    "    include=[\"documents\"],\n",
    "    where={\"cuisine\": \"chinese\"}\n",
    ")\n",
    "\n",
    "result[\"documents\"]"
   ]
  }
 ],
 "metadata": {
  "kernelspec": {
   "display_name": "Python 3",
   "language": "python",
   "name": "python3"
  },
  "language_info": {
   "codemirror_mode": {
    "name": "ipython",
    "version": 3
   },
   "file_extension": ".py",
   "mimetype": "text/x-python",
   "name": "python",
   "nbconvert_exporter": "python",
   "pygments_lexer": "ipython3",
   "version": "3.11.7"
  }
 },
 "nbformat": 4,
 "nbformat_minor": 2
}
