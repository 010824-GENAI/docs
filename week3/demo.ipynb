{
 "cells": [
  {
   "cell_type": "code",
   "execution_count": null,
   "metadata": {},
   "outputs": [],
   "source": [
    "from sentence_transformers import SentenceTransformer\n",
    "\n",
    "sentences = [\n",
    "    \"The quick brown fox jumps over the lazy dog\",\n",
    "    \"A fast brown animal leaps over a sleepy canine\",\n",
    "    \"Birds fly over the rainbow\",\n",
    "    \"Why do birds suddenly appear\",\n",
    "    \"The lazy dog lies under the shady tree\"\n",
    "]\n",
    "\n",
    "model = SentenceTransformer('all-MiniLM-L6-v2')\n",
    "\n",
    "# Convert the sentences into high dimensional vector (capturing semantic meaning)\n",
    "sentence_vectors = model.encode(sentences)"
   ]
  },
  {
   "cell_type": "code",
   "execution_count": null,
   "metadata": {},
   "outputs": [],
   "source": [
    "import faiss\n",
    "\n",
    "# Dimension of vectors\n",
    "dim = sentence_vectors.shape[1]\n",
    "\n",
    "# Create a Flat index\n",
    "# Uses L2 (Euclidean) distance to measure the similiarity between two vectors\n",
    "index = faiss.IndexFlatL2(dim)\n",
    "\n",
    "# Add vectors to the index\n",
    "index.add(sentence_vectors)\n"
   ]
  },
  {
   "cell_type": "code",
   "execution_count": null,
   "metadata": {},
   "outputs": [],
   "source": [
    "query = \"A dark fox jumping over dogs\"\n",
    "\n",
    "# Convert the query into high dimensional vector (capturing semantic meaning)\n",
    "query_vector = model.encode([query])\n",
    "\n",
    "# Perform search\n",
    "D, I = index.search(query_vector, k=2)  # Search for top 2 most similar sentences\n",
    "\n",
    "print(\"Query:\", query)\n",
    "print(\"Most similar sentences in our database:\")\n",
    "for i in I[0]:\n",
    "    print(\"-\", sentences[i])\n"
   ]
  }
 ],
 "metadata": {
  "kernelspec": {
   "display_name": "Python 3",
   "language": "python",
   "name": "python3"
  },
  "language_info": {
   "codemirror_mode": {
    "name": "ipython",
    "version": 3
   },
   "file_extension": ".py",
   "mimetype": "text/x-python",
   "name": "python",
   "nbconvert_exporter": "python",
   "pygments_lexer": "ipython3",
   "version": "3.11.7"
  }
 },
 "nbformat": 4,
 "nbformat_minor": 2
}
