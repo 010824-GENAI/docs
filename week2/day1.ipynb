{
 "cells": [
  {
   "cell_type": "markdown",
   "metadata": {},
   "source": [
    "# Week 2: LLMs and Prompting\n",
    "\n",
    "## Learning Objectives\n",
    "- Understand the concept of LLMs (Language Model Models) and their application in various tasks.\n",
    "- Explore the different techniques available for utilizing LLMs effectively.\n",
    "- Learn and apply best practices for using LLMs, including considerations for security.\n",
    "Additionally we'll start utilizing Zephyr-7b-beta model later in the week.\n",
    "\n",
    "### Requirements\n",
    "- a free ChatGPT account\n",
    "- no other libraries or software are required for this week."
   ]
  },
  {
   "cell_type": "markdown",
   "metadata": {},
   "source": [
    "## Large Language Model\n",
    "LLM refers to a Large Language Model, and it is a specific type of a natural language processing model that are trained on massive amount of text data. They are capable of advanced language understanding and generation.\n",
    "\n",
    "### Tasks\n",
    "- Summarization\n",
    "- Generation\n",
    "- Inference\n",
    "- Chatbot\n",
    "- Formatting\n",
    "- Translation\n",
    "- ...and more!\n",
    "\n",
    "### Prompting\n",
    "- A _prompt_ is a natural language text input that is given to a Large Language Model\n",
    "- It can contain one or more of the following:\n",
    "  - Instruction\n",
    "  - Context\n",
    "  - Input Data\n",
    "  - Output Indicator\n",
    "- Prompting, or prompt engineering, is a _process_ of creating prompts to generate desired results from an LLM\n",
    "\n",
    "### Prompting Best Practices\n",
    "- Be clear and specific\n",
    "  - \"What should I do?\" vs \"I have 3 hours to kill in Portland International Airport. I don’t want to leave the airport. Provide me with 5 physically active things to do in the airport. Format the suggestions in bullet points. Keep each bullet points to 50 words or less\"\n",
    "- Use delimiters to indicate different parts of the text\n",
    "  - Translate the following text delimited by triple quotation marks: \"\"\"Your text to translate here\"\"\"\n",
    "- Use output indicator to encourage an LLM to produce response\n",
    "- Be iterative\n",
    "- Prefer \"Do\" over \"Don't\"\n",
    "  - \"Don’t ramble\" vs \"be concise and keep your output to 2-3 sentences.\"\n",
    "- Give context whenever necessary\n",
    "\n",
    "### Prompting Techniques\n",
    "- Zero-Shot\n",
    "- Few-Shot"
   ]
  }
 ],
 "metadata": {
  "language_info": {
   "name": "python"
  }
 },
 "nbformat": 4,
 "nbformat_minor": 2
}
