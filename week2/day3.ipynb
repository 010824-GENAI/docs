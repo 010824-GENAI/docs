{
 "cells": [
  {
   "cell_type": "markdown",
   "metadata": {},
   "source": [
    "# Week 2 Day 3: Local Python Project Setup, Project 1\n",
    "\n",
    "## Agenda\n",
    "- Setting up for local projects\n",
    "  - Virtual Environment (venv)\n",
    "  - load-dotenv\n",
    "  - requirements.txt\n",
    "- Project 1 Introduction\n",
    "  - Using Template Repository"
   ]
  },
  {
   "cell_type": "markdown",
   "metadata": {},
   "source": [
    "## Local Python Project Setup\n",
    "\n",
    "### Virtual Environment\n",
    "Virtual Environment is used to create an isolated python installation. This is often used to create a project specific scope.\n",
    "\n",
    "Some benefits:\n",
    "\n",
    "- Your development environment is contained within your project, becomes isolated, and does not interfere with your system installed Python or other virtual environments\n",
    "- You can create a new virtual environment for multiple Python versions\n",
    "- You are able to download packages into your project without admin privileges\n",
    "- You can easily package your application and share with other developers to replicate\n",
    "- You can easily create a list of dependencies and sub dependencies in a file, for your project, which makes it easy for other developers to replicate and install all the dependencies used within your environment\n",
    "- Source: https://www.freecodecamp.org/news/how-to-setup-virtual-environments-in-python/\n",
    "\n",
    "\n",
    "#### To Install and Setup a virtual environment\n",
    "We first need to install virtualenv library in your system installation of python:\n",
    "`pip install virtualenv`\n",
    "\n",
    "Then, execute `python -m venv <virtual-env-name>` (python3 for *nix OS's) to create a new, isolated python environment in your current folder\n",
    "\n",
    "#### Activating/Deactivating\n",
    "To activate a particular venv, you have to execute the \"activate\" script inside the Scripts folder\n",
    "- venvfolder\n",
    "  - Scripts\n",
    "    - activate\n",
    "  \n",
    "\n",
    "If your folder name is .venv, then you'd do something like this\n",
    "`<path-to-venv-folder>/.venv/Scripts/activate`\n",
    "\n",
    "if you use gitbash in Windows, it's\n",
    "`. <path-to-venv-folder>/.venv/Scripts/activate`\n",
    "Don't forget the dot!\n",
    "\n",
    "Afterwards, you should see your virtual environment name appear in front of/on top of your terminal\n",
    "\n",
    "To deactivate, simply execute `deactivate` command. It will switch back to system-wide installation of python.\n",
    "\n",
    "### Using Virtual Environment\n",
    "Once in a virtual environment, you can install whichever libraries you want to install via `pip` command. Remember though, once you switch out of that venv, the library you installed there remains there.\n",
    "\n",
    "To make the project dependency management easier, python projects routinely ship with the \"requirements.txt\" This is akin to your Maven file, package.json file, *.csproj file, etc, specifying dependencies needed for a particular paroject.\n",
    "\n",
    "To use requirements.txt file, run the following command: \n",
    "`pip install -r requirements.txt`. Obviously you'd already be in the folder your requirements.txt is in, or provide a path to it.\n",
    "\n",
    "To add libraries/dependencies to your requirements.txt, you can simply list the name of the library in it. \n",
    "\n",
    "To take your Entire environment and turn it into a requirements.txt, run `pip freeze > requirements.txt` This will additionally fix the versions at the current version which is beneficial.\n",
    "\n",
    "**_You should always ignore your virtual environment folder if it exists within a git repository. This is akin to committing your node_modules folder_**\n",
    "\n",
    "### Additional Resources for *Nix Users\n",
    "You can optionally install `virtualenvwrapper` library to make managing different virtual environments easier. [Library Link](https://pypi.org/project/virtualenvwrapper/#:~:text=virtualenvwrapper%20is%20a%20set%20of%20extensions%20to%20Ian,at%20a%20time%20without%20introducing%20conflicts%20in%20their)"
   ]
  },
  {
   "cell_type": "markdown",
   "metadata": {},
   "source": [
    "### python-dotenv\n",
    "\n",
    "Environment variables are commonly used to keep variables that shouldn't end up in your source code. However, hard coding in your system environment can clutter it rather quickly. So instead of that, we use load-dotenv library that will dynamically load those env vars while the project is running and automatically take them down once project stops running.\n",
    "\n",
    "#### Installation and use guide\n",
    "`pip install python-dotenv` to install it in your environment (virtual or system)\n",
    "\n",
    "Remember to add this file to .gitignore file if it contains sensitive information!! (Python gitignore template automatically ignores this for you)"
   ]
  },
  {
   "cell_type": "code",
   "execution_count": 4,
   "metadata": {},
   "outputs": [
    {
     "name": "stdout",
     "output_type": "stream",
     "text": [
      "I am very secret!!\n"
     ]
    }
   ],
   "source": [
    "from dotenv import load_dotenv \n",
    "import os\n",
    "\n",
    "# This will look for the .env file in the same folder and load it as environment variable\n",
    "load_dotenv()\n",
    "\n",
    "# to access those variables, it's the same as accessing regular environment variables\n",
    "super_secret_key = os.environ['SUPER_SECRET_KEY']\n",
    "\n",
    "print(super_secret_key)"
   ]
  }
 ],
 "metadata": {
  "kernelspec": {
   "display_name": "Python 3",
   "language": "python",
   "name": "python3"
  },
  "language_info": {
   "codemirror_mode": {
    "name": "ipython",
    "version": 3
   },
   "file_extension": ".py",
   "mimetype": "text/x-python",
   "name": "python",
   "nbconvert_exporter": "python",
   "pygments_lexer": "ipython3",
   "version": "3.11.7"
  }
 },
 "nbformat": 4,
 "nbformat_minor": 2
}
