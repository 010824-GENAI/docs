{
 "cells": [
  {
   "cell_type": "markdown",
   "metadata": {},
   "source": [
    "# Week 5 Day 1\n",
    "\n",
    "### Announcements\n",
    "- Week 4 Survey (please and thank you)\n",
    "- P2 Presentation\n",
    "- Vector DB Assessment\n",
    "- LOTS of labs this week (11 total) on LangChain\n",
    "  - Please try your best to do them and alert us about lab issues\n",
    "\n",
    "### Week 5-6 Agenda\n",
    "- Creating RAG applications with LangChain\n",
    "- Capstone Project\n",
    "- Capstone Presentation 2/16/24\n",
    "\n",
    "### Today's Agenda\n",
    "- Capstone Project Introduction\n",
    "  - Please let me know your availability next two weeks\n",
    "- LLM Application Framework Introduction\n",
    "- Using LLM with LangChain\n",
    "- Prompting with LangChain\n",
    "- LangChain Expression Language (LCEL)"
   ]
  },
  {
   "cell_type": "markdown",
   "metadata": {},
   "source": [
    "## LLM Application Frameworks\n",
    "- LangChain\n",
    "- AutoGen\n",
    "- LlamaIndex\n",
    "- haystack\n",
    "- and more getting created, daily/weekly.\n",
    "\n",
    "- What are the purpose of all these frameworks?\n",
    "  - Same as any other framework, to abstract away from underlying complexity and to reduce boilerplate work\n",
    "  - All of these support building LLM driven applications but their strenghs differ\n",
    "\n",
    "## LangChain\n",
    "- One of the \"oldest\", released Oct 2022.\n",
    "- Started out as open source project, quickly gained popularity and became a start up.\n",
    "- Strengths:\n",
    "  - Chains\n",
    "  - Working with OpenAI resources\n",
    "  - Integrations between various components\n",
    "- Weakness:\n",
    "  - Documentation is kind of awful\n",
    "  - Integration with non-OpenAI resources are not as smooth"
   ]
  },
  {
   "cell_type": "code",
   "execution_count": 5,
   "metadata": {},
   "outputs": [
    {
     "ename": "ModuleNotFoundError",
     "evalue": "No module named 'langchain_community'",
     "output_type": "error",
     "traceback": [
      "\u001b[1;31m---------------------------------------------------------------------------\u001b[0m",
      "\u001b[1;31mModuleNotFoundError\u001b[0m                       Traceback (most recent call last)",
      "Cell \u001b[1;32mIn[5], line 1\u001b[0m\n\u001b[1;32m----> 1\u001b[0m \u001b[38;5;28;01mfrom\u001b[39;00m \u001b[38;5;21;01mlangchain_community\u001b[39;00m\u001b[38;5;21;01m.\u001b[39;00m\u001b[38;5;21;01mllms\u001b[39;00m \u001b[38;5;28;01mimport\u001b[39;00m HuggingFaceTextGenInference\n\u001b[0;32m      2\u001b[0m \u001b[38;5;28;01mfrom\u001b[39;00m \u001b[38;5;21;01mdotenv\u001b[39;00m \u001b[38;5;28;01mimport\u001b[39;00m load_dotenv\n\u001b[0;32m      3\u001b[0m \u001b[38;5;28;01mimport\u001b[39;00m \u001b[38;5;21;01mos\u001b[39;00m \n",
      "\u001b[1;31mModuleNotFoundError\u001b[0m: No module named 'langchain_community'"
     ]
    }
   ],
   "source": [
    "from langchain_community.llms import HuggingFaceTextGenInference\n",
    "from dotenv import load_dotenv\n",
    "import os \n",
    "\n",
    "load_dotenv()\n",
    "\n",
    "llm = HuggingFaceTextGenInference(\n",
    "    inference_server_url=os.getenv('HF_LLM'),\n",
    "    max_new_tokens=256,\n",
    "    top_k=50,\n",
    "    temperature=0.1,\n",
    "    repetition_penalty=1.03,\n",
    "    server_kwargs={\n",
    "        \"headers\": {\n",
    "            \"Authorization\": f\"Bearer {os.getenv('HUGGINGFACEHUB_API_TOKEN')}\",\n",
    "            \"Content-Type\": \"application/json\",\n",
    "        }\n",
    "    },\n",
    ")"
   ]
  }
 ],
 "metadata": {
  "kernelspec": {
   "display_name": "Python 3",
   "language": "python",
   "name": "python3"
  },
  "language_info": {
   "codemirror_mode": {
    "name": "ipython",
    "version": 3
   },
   "file_extension": ".py",
   "mimetype": "text/x-python",
   "name": "python",
   "nbconvert_exporter": "python",
   "pygments_lexer": "ipython3",
   "version": "3.11.7"
  }
 },
 "nbformat": 4,
 "nbformat_minor": 2
}
